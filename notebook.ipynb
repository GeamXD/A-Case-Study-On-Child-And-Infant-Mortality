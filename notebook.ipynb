{
 "cells": [
  {
   "metadata": {},
   "cell_type": "markdown",
   "source": [
    "# **INTRODUCTION**\n",
    "\n",
    "## **The Silent Crisis: The Urgent Need to Protect Our Youngest in Africa**\n",
    "![Child Mortality](images/a_case_study_on_tackling_infants_and.jpeg)\n",
    "\n",
    "\n",
    "Child and infant mortality rates remain a significant global health challenge, particularly in Africa. Despite progress in recent years, preventable deaths continue to occur, hindering the realization of sustainable development goals.\n",
    "\n",
    "This project aims to leverage data-driven approaches to identify key factors contributing to child and infant mortality in African countries. By analyzing relevant datasets, we will uncover patterns, correlations, and insights that can inform evidence-based interventions and policies. \n",
    "\n",
    "Our goal is to contribute to the development of effective strategies to reduce child and infant mortality rates, ultimately improving the health and well-being of children across the continent. \n",
    "erations to come.\n"
   ],
   "id": "cd88c28fc68c13b2"
  },
  {
   "metadata": {},
   "cell_type": "markdown",
   "source": [
    "#### Dataset Descriptions\n",
    "\n",
    " 1. **Health Protection Coverage**\n",
    "\n",
    "| **Field**                          | **Description**                                                  |\n",
    "|------------------------------------|------------------------------------------------------------------|\n",
    "| Entity                             | Name of the country or region.                                   |\n",
    "| Code                               | Country code (ISO 3-letter format).                              |\n",
    "| Year                               | Year of observation.                                             |\n",
    "| Share of population covered by health insurance | Percentage of the population covered by health insurance. |\n",
    "\n",
    "---\n",
    "\n",
    "2. **Global Vaccination Coverage**\n",
    "\n",
    "| **Field**                          | **Description**                                                  |\n",
    "|------------------------------------|------------------------------------------------------------------|\n",
    "| Entity                             | Name of the country or region.                                   |\n",
    "| Code                               | Country code (ISO 3-letter format).                              |\n",
    "| Year                               | Year of observation.                                             |\n",
    "| BCG (% of one-year-olds immunized) | Percentage of one-year-olds immunized with BCG vaccine.          |\n",
    "| HepB3 (% of one-year-olds immunized) | Percentage of one-year-olds immunized with Hepatitis B vaccine. |\n",
    "| Hib3 (% of one-year-olds immunized) | Percentage of one-year-olds immunized with Haemophilus influenzae B. |\n",
    "| IPV1 (% of one-year-olds immunized) | Percentage of one-year-olds immunized with Inactivated Polio Vaccine. |\n",
    "| MCV1 (% of one-year-olds immunized) | Percentage of one-year-olds immunized with Measles vaccine (1st dose). |\n",
    "| PCV3 (% of one-year-olds immunized) | Percentage of one-year-olds immunized with Pneumococcal conjugate vaccine. |\n",
    "| Pol3 (% of one-year-olds immunized) | Percentage of one-year-olds immunized with Polio vaccine (3rd dose). |\n",
    "| RCV1 (% of one-year-olds immunized) | Percentage of one-year-olds immunized with Rubella vaccine.      |\n",
    "| RotaC (% of one-year-olds immunized) | Percentage of one-year-olds immunized with Rotavirus vaccine.    |\n",
    "| YFV (% of one-year-olds immunized) | Percentage of one-year-olds immunized with Yellow Fever vaccine. |\n",
    "| DTP3 (% of one-year-olds immunized) | Percentage of one-year-olds immunized with Diphtheria, Tetanus, and Pertussis vaccine. |\n",
    "\n",
    "---\n",
    "\n",
    "3. **Births Attended by Health Staff**\n",
    "\n",
    "| **Field**                          | **Description**                                                  |\n",
    "|------------------------------------|------------------------------------------------------------------|\n",
    "| Entity                             | Name of the country or region.                                   |\n",
    "| Code                               | Country code (ISO 3-letter format).                              |\n",
    "| Year                               | Year of observation.                                             |\n",
    "| Births attended by skilled health staff (%) | Percentage of total births attended by skilled health staff. |\n",
    "\n",
    "---\n",
    "\n",
    "4. **Maternal Deaths by Region**\n",
    "\n",
    "| **Field**                          | **Description**                                                  |\n",
    "|------------------------------------|------------------------------------------------------------------|\n",
    "| Entity                             | Name of the country or region.                                   |\n",
    "| Code                               | Country code (ISO 3-letter format).                              |\n",
    "| Year                               | Year of observation.                                             |\n",
    "| Estimated maternal deaths          | Estimated number of maternal deaths in the given year.           |\n",
    "\n",
    "---\n",
    "\n",
    "5. **Child Mortality by Income Level**\n",
    "\n",
    "| **Field**                          | **Description**                                                  |\n",
    "|------------------------------------|------------------------------------------------------------------|\n",
    "| Entity                             | Name of the country or region.                                   |\n",
    "| Code                               | Country code (ISO 3-letter format).                              |\n",
    "| Year                               | Year of observation.                                             |\n",
    "| Under-five mortality rate          | Number of deaths of children under five years per 100 live births. |\n",
    "\n",
    "---\n",
    "\n",
    "6. **Infant Deaths**\n",
    "\n",
    "| **Field**                          | **Description**                                                  |\n",
    "|------------------------------------|------------------------------------------------------------------|\n",
    "| Entity                             | Name of the country or region.                                   |\n",
    "| Code                               | Country code (ISO 3-letter format).                              |\n",
    "| Year                               | Year of observation.                                             |\n",
    "| Deaths - Sex: all - Age: 0         | Total number of infant deaths (age 0) for the given year.        |\n",
    "\n",
    "---\n",
    "\n",
    "7. **Youth Mortality Rate**\n",
    "\n",
    "| **Field**                          | **Description**                                                  |\n",
    "|------------------------------------|------------------------------------------------------------------|\n",
    "| Entity                             | Name of the country or region.                                   |\n",
    "| Code                               | Country code (ISO 3-letter format).                              |\n",
    "| Year                               | Year of observation.                                             |\n",
    "| Under-fifteen mortality rate       | Number of deaths per 1,000 live births for children under 15 years. |\n",
    "\n",
    "---\n",
    "\n",
    "8. **Causes of Death in Children Under Five**\n",
    "\n",
    "| **Field**                          | **Description**                                                  |\n",
    "|------------------------------------|------------------------------------------------------------------|\n",
    "| IndicatorCode                      | Indicator code for the specific cause of death.                 |\n",
    "| Indicator                          | Description of the cause of death.                              |\n",
    "| ValueType                          | Type of the value (e.g., numeric, percentage).                  |\n",
    "| ParentLocationCode                 | Code for the parent region.                                      |\n",
    "| ParentLocation                     | Name of the parent region.                                       |\n",
    "| Location                           | Name of the country.                                             |\n",
    "| Type                               | Classification type.                                             |\n",
    "| SpatialDimValueCode                | Spatial dimension code for the country.                         |\n",
    "| Period                             | Year of data collection.                                         |\n",
    "| FactValueNumericHigh               | Upper bound of the estimated value.                             |\n",
    "| FactValueNumericLow                | Lower bound of the estimated value.                             |\n",
    "| FactValueTranslationID             | Translation ID for value.                                        |\n",
    "| FactComments                       | Comments or notes related to the fact.                          |\n",
    "| Language                           | Language of the record.                                          |\n"
   ],
   "id": "197a8b761b46c47a"
  },
  {
   "metadata": {},
   "cell_type": "markdown",
   "source": "# **DATA IMPORT AND CLEANING**",
   "id": "d0705006864c13f0"
  },
  {
   "metadata": {
    "ExecuteTime": {
     "end_time": "2024-11-30T13:55:46.792894Z",
     "start_time": "2024-11-30T13:55:46.755899Z"
    }
   },
   "cell_type": "code",
   "source": [
    "# Importing necessary libraries\n",
    "import pandas as pd\n",
    "import numpy as np\n",
    "import seaborn as sns\n",
    "import matplotlib.pyplot as plt\n",
    "import helpers as hp\n",
    "# import plotly.express as px\n",
    "import plotly.io as pio\n",
    "pio.templates.default = \"ggplot2\"\n",
    "plt.style.use('ggplot')"
   ],
   "id": "146d3e5e45fad3a5",
   "outputs": [],
   "execution_count": 10
  },
  {
   "metadata": {
    "ExecuteTime": {
     "end_time": "2024-11-30T13:33:50.338649Z",
     "start_time": "2024-11-30T13:33:49.155778Z"
    }
   },
   "cell_type": "code",
   "source": [
    "# Load the datasets\n",
    "health_protection = pd.read_csv('data/health-protection-coverage.csv')\n",
    "vaccination_coverage = pd.read_csv('data/global-vaccination-coverage.csv')\n",
    "births_attended = pd.read_csv('data/births-attended-by-health-staff-sdgs.csv')\n",
    "maternal_deaths = pd.read_csv('data/number-of-maternal-deaths-by-region.csv')\n",
    "child_mortality = pd.read_csv('data/child-mortality-by-income-level-of-country.csv')\n",
    "infant_deaths = pd.read_csv('data/number-of-infant-deaths-unwpp.csv')\n",
    "youth_mortality = pd.read_csv('data/youth-mortality-rate.csv')\n",
    "causes_of_death = pd.read_csv('data/Distribution of Causes of Death among Children Aged less than 5 years.csv')"
   ],
   "id": "fb034708500c2707",
   "outputs": [],
   "execution_count": 4
  },
  {
   "metadata": {
    "ExecuteTime": {
     "end_time": "2024-11-30T13:35:24.380049Z",
     "start_time": "2024-11-30T13:35:24.357259Z"
    }
   },
   "cell_type": "code",
   "source": [
    "# Display the first few rows of health_protection dataset\n",
    "health_protection.head()"
   ],
   "id": "15274d117555fb90",
   "outputs": [
    {
     "data": {
      "text/plain": [
       "                Entity Code  Year  \\\n",
       "0              Albania  ALB  2008   \n",
       "1              Algeria  DZA  2005   \n",
       "2       American Samoa  ASM  2009   \n",
       "3               Angola  AGO  2010   \n",
       "4  Antigua and Barbuda  ATG  2007   \n",
       "\n",
       "   Share of population covered by health insurance (ILO (2014))  \n",
       "0                                               23.6             \n",
       "1                                               85.2             \n",
       "2                                                3.0             \n",
       "3                                                0.0             \n",
       "4                                               51.1             "
      ],
      "text/html": [
       "<div>\n",
       "<style scoped>\n",
       "    .dataframe tbody tr th:only-of-type {\n",
       "        vertical-align: middle;\n",
       "    }\n",
       "\n",
       "    .dataframe tbody tr th {\n",
       "        vertical-align: top;\n",
       "    }\n",
       "\n",
       "    .dataframe thead th {\n",
       "        text-align: right;\n",
       "    }\n",
       "</style>\n",
       "<table border=\"1\" class=\"dataframe\">\n",
       "  <thead>\n",
       "    <tr style=\"text-align: right;\">\n",
       "      <th></th>\n",
       "      <th>Entity</th>\n",
       "      <th>Code</th>\n",
       "      <th>Year</th>\n",
       "      <th>Share of population covered by health insurance (ILO (2014))</th>\n",
       "    </tr>\n",
       "  </thead>\n",
       "  <tbody>\n",
       "    <tr>\n",
       "      <th>0</th>\n",
       "      <td>Albania</td>\n",
       "      <td>ALB</td>\n",
       "      <td>2008</td>\n",
       "      <td>23.6</td>\n",
       "    </tr>\n",
       "    <tr>\n",
       "      <th>1</th>\n",
       "      <td>Algeria</td>\n",
       "      <td>DZA</td>\n",
       "      <td>2005</td>\n",
       "      <td>85.2</td>\n",
       "    </tr>\n",
       "    <tr>\n",
       "      <th>2</th>\n",
       "      <td>American Samoa</td>\n",
       "      <td>ASM</td>\n",
       "      <td>2009</td>\n",
       "      <td>3.0</td>\n",
       "    </tr>\n",
       "    <tr>\n",
       "      <th>3</th>\n",
       "      <td>Angola</td>\n",
       "      <td>AGO</td>\n",
       "      <td>2010</td>\n",
       "      <td>0.0</td>\n",
       "    </tr>\n",
       "    <tr>\n",
       "      <th>4</th>\n",
       "      <td>Antigua and Barbuda</td>\n",
       "      <td>ATG</td>\n",
       "      <td>2007</td>\n",
       "      <td>51.1</td>\n",
       "    </tr>\n",
       "  </tbody>\n",
       "</table>\n",
       "</div>"
      ]
     },
     "execution_count": 6,
     "metadata": {},
     "output_type": "execute_result"
    }
   ],
   "execution_count": 6
  },
  {
   "metadata": {
    "ExecuteTime": {
     "end_time": "2024-11-30T13:53:22.606048Z",
     "start_time": "2024-11-30T13:53:22.587920Z"
    }
   },
   "cell_type": "code",
   "source": "health_protection.info()",
   "id": "a3baa025dcfd84d6",
   "outputs": [
    {
     "name": "stdout",
     "output_type": "stream",
     "text": [
      "<class 'pandas.core.frame.DataFrame'>\n",
      "RangeIndex: 162 entries, 0 to 161\n",
      "Data columns (total 4 columns):\n",
      " #   Column                                                        Non-Null Count  Dtype  \n",
      "---  ------                                                        --------------  -----  \n",
      " 0   Entity                                                        162 non-null    object \n",
      " 1   Code                                                          162 non-null    object \n",
      " 2   Year                                                          162 non-null    int64  \n",
      " 3   Share of population covered by health insurance (ILO (2014))  162 non-null    float64\n",
      "dtypes: float64(1), int64(1), object(2)\n",
      "memory usage: 5.2+ KB\n"
     ]
    }
   ],
   "execution_count": 7
  },
  {
   "metadata": {
    "ExecuteTime": {
     "end_time": "2024-11-30T13:54:23.531233Z",
     "start_time": "2024-11-30T13:54:23.509777Z"
    }
   },
   "cell_type": "code",
   "source": "# Function that checks for missing\n",
   "id": "24edfca300581628",
   "outputs": [
    {
     "data": {
      "text/plain": [
       "                                                    Total  Percent\n",
       "Entity                                                  0      0.0\n",
       "Code                                                    0      0.0\n",
       "Year                                                    0      0.0\n",
       "Share of population covered by health insurance...      0      0.0"
      ],
      "text/html": [
       "<div>\n",
       "<style scoped>\n",
       "    .dataframe tbody tr th:only-of-type {\n",
       "        vertical-align: middle;\n",
       "    }\n",
       "\n",
       "    .dataframe tbody tr th {\n",
       "        vertical-align: top;\n",
       "    }\n",
       "\n",
       "    .dataframe thead th {\n",
       "        text-align: right;\n",
       "    }\n",
       "</style>\n",
       "<table border=\"1\" class=\"dataframe\">\n",
       "  <thead>\n",
       "    <tr style=\"text-align: right;\">\n",
       "      <th></th>\n",
       "      <th>Total</th>\n",
       "      <th>Percent</th>\n",
       "    </tr>\n",
       "  </thead>\n",
       "  <tbody>\n",
       "    <tr>\n",
       "      <th>Entity</th>\n",
       "      <td>0</td>\n",
       "      <td>0.0</td>\n",
       "    </tr>\n",
       "    <tr>\n",
       "      <th>Code</th>\n",
       "      <td>0</td>\n",
       "      <td>0.0</td>\n",
       "    </tr>\n",
       "    <tr>\n",
       "      <th>Year</th>\n",
       "      <td>0</td>\n",
       "      <td>0.0</td>\n",
       "    </tr>\n",
       "    <tr>\n",
       "      <th>Share of population covered by health insurance (ILO (2014))</th>\n",
       "      <td>0</td>\n",
       "      <td>0.0</td>\n",
       "    </tr>\n",
       "  </tbody>\n",
       "</table>\n",
       "</div>"
      ]
     },
     "execution_count": 8,
     "metadata": {},
     "output_type": "execute_result"
    }
   ],
   "execution_count": 8
  },
  {
   "metadata": {},
   "cell_type": "markdown",
   "source": "# EXPLORATORY DATA ANALYSIS",
   "id": "5f5e2615d863b084"
  },
  {
   "metadata": {},
   "cell_type": "markdown",
   "source": "# MACHINE LEARNING (OPTIONAL)",
   "id": "1e0af41702a79785"
  },
  {
   "metadata": {},
   "cell_type": "markdown",
   "source": "# RESULTS AND INSIHGTS",
   "id": "b444ce71cc17aa1e"
  },
  {
   "metadata": {},
   "cell_type": "markdown",
   "source": "# CONCLUSION\n",
   "id": "f3c0cbe0a5b04839"
  },
  {
   "metadata": {},
   "cell_type": "markdown",
   "source": "",
   "id": "7e1735e16e327116"
  }
 ],
 "metadata": {
  "kernelspec": {
   "display_name": "Python 3",
   "language": "python",
   "name": "python3"
  },
  "language_info": {
   "codemirror_mode": {
    "name": "ipython",
    "version": 2
   },
   "file_extension": ".py",
   "mimetype": "text/x-python",
   "name": "python",
   "nbconvert_exporter": "python",
   "pygments_lexer": "ipython2",
   "version": "2.7.6"
  }
 },
 "nbformat": 4,
 "nbformat_minor": 5
}
